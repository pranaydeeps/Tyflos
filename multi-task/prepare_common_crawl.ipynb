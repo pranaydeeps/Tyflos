{
 "cells": [
  {
   "cell_type": "code",
   "execution_count": 13,
   "id": "concerned-integrity",
   "metadata": {},
   "outputs": [],
   "source": [
    "import csv\n",
    "data = []"
   ]
  },
  {
   "cell_type": "code",
   "execution_count": 14,
   "id": "accredited-orlando",
   "metadata": {},
   "outputs": [],
   "source": [
    "languages = ['en','es','hi','nl','pt','tl','zh']\n",
    "base_path = '../datasets/common_crawl/'"
   ]
  },
  {
   "cell_type": "code",
   "execution_count": 15,
   "id": "signal-bibliography",
   "metadata": {},
   "outputs": [],
   "source": [
    "for l in languages:\n",
    "    with open(base_path + '{}_texts.txt'.format(l)) as f:\n",
    "        lines = f.readlines()\n",
    "        for line in lines:\n",
    "            data.append([line, l])"
   ]
  },
  {
   "cell_type": "code",
   "execution_count": 16,
   "id": "located-storm",
   "metadata": {},
   "outputs": [
    {
     "data": {
      "text/plain": [
       "['De Centraal december 2012 staat online Druk op onderstaande link om de laatste nieuwtjes uit het inloophuis te lezen. Link: Centraal-december-2012.definitief.internet\\n',\n",
       " 'nl']"
      ]
     },
     "execution_count": 16,
     "metadata": {},
     "output_type": "execute_result"
    }
   ],
   "source": [
    "data[21000]"
   ]
  },
  {
   "cell_type": "code",
   "execution_count": 17,
   "id": "analyzed-wildlife",
   "metadata": {},
   "outputs": [],
   "source": [
    "header = ['text','language']\n",
    "with open('../datasets/common_crawl/language_identification.csv', 'w') as f:\n",
    "    write = csv.writer(f)  \n",
    "    write.writerow(header)\n",
    "    write.writerows(data)"
   ]
  },
  {
   "cell_type": "code",
   "execution_count": null,
   "id": "empty-correspondence",
   "metadata": {},
   "outputs": [],
   "source": []
  }
 ],
 "metadata": {
  "kernelspec": {
   "display_name": "Python 3",
   "language": "python",
   "name": "python3"
  },
  "language_info": {
   "codemirror_mode": {
    "name": "ipython",
    "version": 3
   },
   "file_extension": ".py",
   "mimetype": "text/x-python",
   "name": "python",
   "nbconvert_exporter": "python",
   "pygments_lexer": "ipython3",
   "version": "3.9.7"
  }
 },
 "nbformat": 4,
 "nbformat_minor": 5
}
