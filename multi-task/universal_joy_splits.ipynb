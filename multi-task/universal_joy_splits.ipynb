{
 "cells": [
  {
   "cell_type": "code",
   "execution_count": 1,
   "id": "1dd3eab3",
   "metadata": {},
   "outputs": [],
   "source": [
    "import pandas as pd"
   ]
  },
  {
   "cell_type": "code",
   "execution_count": 2,
   "id": "b2f2a5ac",
   "metadata": {},
   "outputs": [],
   "source": [
    "train_csv = pd.read_csv('../datasets/universal_joy/small.csv')\n",
    "test_csv = pd.read_csv('../datasets/universal_joy/test.csv')"
   ]
  },
  {
   "cell_type": "code",
   "execution_count": 4,
   "id": "cfda8430",
   "metadata": {},
   "outputs": [],
   "source": [
    "unique_lang = list(set(train_csv['language']))"
   ]
  },
  {
   "cell_type": "code",
   "execution_count": 5,
   "id": "911e33ce",
   "metadata": {},
   "outputs": [
    {
     "data": {
      "text/plain": [
       "['tl', 'pt', 'zh', 'en', 'es']"
      ]
     },
     "execution_count": 5,
     "metadata": {},
     "output_type": "execute_result"
    }
   ],
   "source": [
    "unique_lang"
   ]
  },
  {
   "cell_type": "code",
   "execution_count": 11,
   "id": "b1c17e5b",
   "metadata": {},
   "outputs": [],
   "source": [
    "train_splits = {lang: train_csv[train_csv['language']==lang] for lang in unique_lang}\n",
    "test_splits = {lang: test_csv[test_csv['language']==lang] for lang in unique_lang}"
   ]
  },
  {
   "cell_type": "code",
   "execution_count": 14,
   "id": "a04d4e7d",
   "metadata": {},
   "outputs": [],
   "source": [
    "for lang in unique_lang:\n",
    "    train_splits[lang].to_csv('../datasets/universal_joy/train_{}.csv'.format(lang))\n",
    "    test_splits[lang].to_csv('../datasets/universal_joy/test_{}.csv'.format(lang))"
   ]
  },
  {
   "cell_type": "code",
   "execution_count": null,
   "id": "9fd4d7f5",
   "metadata": {},
   "outputs": [],
   "source": []
  }
 ],
 "metadata": {
  "kernelspec": {
   "display_name": "Python 3 (ipykernel)",
   "language": "python",
   "name": "python3"
  },
  "language_info": {
   "codemirror_mode": {
    "name": "ipython",
    "version": 3
   },
   "file_extension": ".py",
   "mimetype": "text/x-python",
   "name": "python",
   "nbconvert_exporter": "python",
   "pygments_lexer": "ipython3",
   "version": "3.8.10"
  }
 },
 "nbformat": 4,
 "nbformat_minor": 5
}
