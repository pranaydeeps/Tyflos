{
 "cells": [
  {
   "cell_type": "code",
   "execution_count": 1,
   "id": "1dd3eab3",
   "metadata": {},
   "outputs": [],
   "source": [
    "import pandas as pd"
   ]
  },
  {
   "cell_type": "code",
   "execution_count": 2,
   "id": "b2f2a5ac",
   "metadata": {},
   "outputs": [],
   "source": [
    "train_csv = pd.read_csv('../datasets/universal_joy/small.csv')\n",
    "test_csv = pd.read_csv('../datasets/universal_joy/test.csv')"
   ]
  },
  {
   "cell_type": "code",
   "execution_count": 4,
   "id": "cfda8430",
   "metadata": {},
   "outputs": [],
   "source": [
    "unique_lang = list(set(train_csv['language']))"
   ]
  },
  {
   "cell_type": "code",
   "execution_count": 5,
   "id": "911e33ce",
   "metadata": {},
   "outputs": [
    {
     "data": {
      "text/plain": [
       "['tl', 'pt', 'zh', 'en', 'es']"
      ]
     },
     "execution_count": 5,
     "metadata": {},
     "output_type": "execute_result"
    }
   ],
   "source": [
    "unique_lang"
   ]
  },
  {
   "cell_type": "code",
   "execution_count": 11,
   "id": "b1c17e5b",
   "metadata": {},
   "outputs": [],
   "source": [
    "train_splits = {lang: train_csv[train_csv['language']==lang] for lang in unique_lang}\n",
    "test_splits = {lang: test_csv[test_csv['language']==lang] for lang in unique_lang}"
   ]
  },
  {
   "cell_type": "code",
   "execution_count": 14,
   "id": "a04d4e7d",
   "metadata": {},
   "outputs": [],
   "source": [
    "for lang in unique_lang:\n",
    "    train_splits[lang].to_csv('../datasets/universal_joy/train_{}.csv'.format(lang))\n",
    "    test_splits[lang].to_csv('../datasets/universal_joy/test_{}.csv'.format(lang))"
   ]
  },
  {
   "cell_type": "code",
   "execution_count": null,
   "id": "9fd4d7f5",
   "metadata": {},
   "outputs": [],
   "source": []
  },
  {
   "cell_type": "code",
   "execution_count": null,
   "id": "elementary-willow",
   "metadata": {},
   "outputs": [],
   "source": []
  },
  {
   "cell_type": "code",
   "execution_count": 5,
   "id": "external-subsection",
   "metadata": {},
   "outputs": [],
   "source": [
    "lang_train = pd.read_csv('../datasets/universal_joy_equal/equal_en.txt', delimiter='\\t', names=['text','emotion'])\n",
    "# train_splits = {lang: train_csv[train_csv['language']==lang] for lang in unique_lang}\n"
   ]
  },
  {
   "cell_type": "code",
   "execution_count": null,
   "id": "distinct-possession",
   "metadata": {},
   "outputs": [],
   "source": []
  },
  {
   "cell_type": "code",
   "execution_count": null,
   "id": "injured-uncertainty",
   "metadata": {},
   "outputs": [],
   "source": []
  },
  {
   "cell_type": "code",
   "execution_count": 8,
   "id": "silent-gospel",
   "metadata": {},
   "outputs": [],
   "source": [
    "en_csv = pd.read_csv('../datasets/universal_joy_equal/equal_en.txt', delimiter='\\t', names=['text','emotion'])\n",
    "pt_csv = pd.read_csv('../datasets/universal_joy_equal/equal_pt.txt', delimiter='\\t', names=['text','emotion'])\n",
    "es_csv = pd.read_csv('../datasets/universal_joy_equal/equal_es.txt', delimiter='\\t', names=['text','emotion'])\n",
    "zh_csv = pd.read_csv('../datasets/universal_joy_equal/equal_zh.txt', delimiter='\\t', names=['text','emotion'])\n",
    "tl_csv = pd.read_csv('../datasets/universal_joy_equal/equal_tl.txt', delimiter='\\t', names=['text','emotion'])\n",
    "hi_csv = pd.read_csv('../datasets/universal_joy_equal/equal_hi.txt', delimiter='\\t', names=['text','emotion'])\n",
    "nl_csv = pd.read_csv('../datasets/universal_joy_equal/equal_nl.txt', delimiter='\\t', names=['text','emotion'])\n",
    "\n",
    "\n"
   ]
  },
  {
   "cell_type": "code",
   "execution_count": 9,
   "id": "eight-smith",
   "metadata": {},
   "outputs": [],
   "source": [
    "dfs = [en_csv, pt_csv, es_csv, zh_csv,tl_csv,hi_csv,nl_csv]"
   ]
  },
  {
   "cell_type": "code",
   "execution_count": 10,
   "id": "documentary-converter",
   "metadata": {},
   "outputs": [],
   "source": [
    "frame = pd.concat(dfs, axis=0, ignore_index=True)\n"
   ]
  },
  {
   "cell_type": "code",
   "execution_count": 12,
   "id": "sophisticated-reflection",
   "metadata": {},
   "outputs": [],
   "source": [
    "frame.to_csv('../datasets/universal_joy_equal/train_equal.csv', header=['text','emotion'])"
   ]
  },
  {
   "cell_type": "code",
   "execution_count": null,
   "id": "weekly-badge",
   "metadata": {},
   "outputs": [],
   "source": []
  }
 ],
 "metadata": {
  "kernelspec": {
   "display_name": "Python 3",
   "language": "python",
   "name": "python3"
  },
  "language_info": {
   "codemirror_mode": {
    "name": "ipython",
    "version": 3
   },
   "file_extension": ".py",
   "mimetype": "text/x-python",
   "name": "python",
   "nbconvert_exporter": "python",
   "pygments_lexer": "ipython3",
   "version": "3.9.10"
  }
 },
 "nbformat": 4,
 "nbformat_minor": 5
}
