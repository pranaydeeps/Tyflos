{
 "cells": [
  {
   "cell_type": "code",
   "execution_count": 25,
   "id": "1ad65bcf",
   "metadata": {},
   "outputs": [],
   "source": [
    "original_lang = 'zh'\n",
    "destination_lang = 'en'"
   ]
  },
  {
   "cell_type": "code",
   "execution_count": 26,
   "id": "6dcd18ef",
   "metadata": {},
   "outputs": [],
   "source": [
    "import pandas as pd\n",
    "from googletrans import Translator\n",
    "import tqdm\n",
    "import string\n",
    "import time"
   ]
  },
  {
   "cell_type": "code",
   "execution_count": 27,
   "id": "cdf2317b",
   "metadata": {},
   "outputs": [],
   "source": [
    "original = pd.read_csv('../datasets/universal_joy_equal/equal_{}.txt'.format(original_lang), delimiter='\\t',names=['text','emotion'])"
   ]
  },
  {
   "cell_type": "code",
   "execution_count": 28,
   "id": "71762f15",
   "metadata": {},
   "outputs": [],
   "source": [
    "text = original['text'][8]"
   ]
  },
  {
   "cell_type": "code",
   "execution_count": 29,
   "id": "a3c9d72c",
   "metadata": {},
   "outputs": [
    {
     "data": {
      "text/plain": [
       "'都是一样的哦~~~说没服务费~~~都是假的吧~~~'"
      ]
     },
     "execution_count": 29,
     "metadata": {},
     "output_type": "execute_result"
    }
   ],
   "source": [
    "text"
   ]
  },
  {
   "cell_type": "code",
   "execution_count": 30,
   "id": "b0d8cb93",
   "metadata": {},
   "outputs": [],
   "source": [
    "translator = Translator()"
   ]
  },
  {
   "cell_type": "code",
   "execution_count": 31,
   "id": "mysterious-arabic",
   "metadata": {},
   "outputs": [
    {
     "data": {
      "text/plain": [
       "<googletrans.models.Translated at 0x117278e20>"
      ]
     },
     "execution_count": 31,
     "metadata": {},
     "output_type": "execute_result"
    }
   ],
   "source": [
    "translator.translate(text)"
   ]
  },
  {
   "cell_type": "code",
   "execution_count": null,
   "id": "30196da0",
   "metadata": {},
   "outputs": [
    {
     "name": "stderr",
     "output_type": "stream",
     "text": [
      "  1%|          | 8/1491 [00:14<1:01:17,  2.48s/it]"
     ]
    },
    {
     "name": "stdout",
     "output_type": "stream",
     "text": [
      "SKIPPING with error: The read operation timed out\n"
     ]
    },
    {
     "name": "stderr",
     "output_type": "stream",
     "text": [
      "  4%|▍         | 62/1491 [01:32<57:07,  2.40s/it] "
     ]
    },
    {
     "name": "stdout",
     "output_type": "stream",
     "text": [
      "SKIPPING with error: The read operation timed out\n"
     ]
    },
    {
     "name": "stderr",
     "output_type": "stream",
     "text": [
      " 10%|▉         | 142/1491 [03:20<55:52,  2.49s/it] "
     ]
    },
    {
     "name": "stdout",
     "output_type": "stream",
     "text": [
      "SKIPPING with error: The read operation timed out\n"
     ]
    },
    {
     "name": "stderr",
     "output_type": "stream",
     "text": [
      " 11%|█         | 164/1491 [03:54<50:19,  2.28s/it]"
     ]
    },
    {
     "name": "stdout",
     "output_type": "stream",
     "text": [
      "SKIPPING with error: the JSON object must be str, bytes or bytearray, not NoneType\n"
     ]
    },
    {
     "name": "stderr",
     "output_type": "stream",
     "text": [
      " 11%|█▏        | 169/1491 [04:05<58:44,  2.67s/it]"
     ]
    },
    {
     "name": "stdout",
     "output_type": "stream",
     "text": [
      "SKIPPING with error: The read operation timed out\n"
     ]
    },
    {
     "name": "stderr",
     "output_type": "stream",
     "text": [
      " 16%|█▌        | 239/1491 [05:42<28:01,  1.34s/it]"
     ]
    }
   ],
   "source": [
    "translated = []\n",
    "for i in tqdm.tqdm(original['text']):\n",
    "    try:\n",
    "        temp = translator.translate(i.translate(str.maketrans('','', string.punctuation)),dest=destination_lang).text\n",
    "        time.sleep(0.5)\n",
    "    except Exception as e:\n",
    "        print(\"SKIPPING with error: {}\".format(e))\n",
    "        temp = i\n",
    "    translated.append(temp)"
   ]
  },
  {
   "cell_type": "code",
   "execution_count": 22,
   "id": "439343d3",
   "metadata": {},
   "outputs": [],
   "source": [
    "translated_df = original\n",
    "translated_df['text'] = translated\n"
   ]
  },
  {
   "cell_type": "code",
   "execution_count": 23,
   "id": "0cbb74f3",
   "metadata": {},
   "outputs": [
    {
     "data": {
      "text/html": [
       "<div>\n",
       "<style scoped>\n",
       "    .dataframe tbody tr th:only-of-type {\n",
       "        vertical-align: middle;\n",
       "    }\n",
       "\n",
       "    .dataframe tbody tr th {\n",
       "        vertical-align: top;\n",
       "    }\n",
       "\n",
       "    .dataframe thead th {\n",
       "        text-align: right;\n",
       "    }\n",
       "</style>\n",
       "<table border=\"1\" class=\"dataframe\">\n",
       "  <thead>\n",
       "    <tr style=\"text-align: right;\">\n",
       "      <th></th>\n",
       "      <th>text</th>\n",
       "      <th>emotion</th>\n",
       "    </tr>\n",
       "  </thead>\n",
       "  <tbody>\n",
       "    <tr>\n",
       "      <th>0</th>\n",
       "      <td>Person now the bug will get to speak is easy I...</td>\n",
       "      <td>anger</td>\n",
       "    </tr>\n",
       "    <tr>\n",
       "      <th>1</th>\n",
       "      <td>Person that pity passed 000 posts by my face y...</td>\n",
       "      <td>anger</td>\n",
       "    </tr>\n",
       "    <tr>\n",
       "      <th>2</th>\n",
       "      <td>Phod good morning rs for those who vote or vot...</td>\n",
       "      <td>anger</td>\n",
       "    </tr>\n",
       "    <tr>\n",
       "      <th>3</th>\n",
       "      <td>Person This is the state of the street Doctor ...</td>\n",
       "      <td>anger</td>\n",
       "    </tr>\n",
       "    <tr>\n",
       "      <th>4</th>\n",
       "      <td>Ufa ufa person that night horrible without lig...</td>\n",
       "      <td>anger</td>\n",
       "    </tr>\n",
       "    <tr>\n",
       "      <th>...</th>\n",
       "      <td>...</td>\n",
       "      <td>...</td>\n",
       "    </tr>\n",
       "    <tr>\n",
       "      <th>1486</th>\n",
       "      <td>Mc Daleste S0 Filhão Life taught me to say goo...</td>\n",
       "      <td>sadness</td>\n",
       "    </tr>\n",
       "    <tr>\n",
       "      <th>1487</th>\n",
       "      <td>My life, I love you, I love you, I love you, I...</td>\n",
       "      <td>sadness</td>\n",
       "    </tr>\n",
       "    <tr>\n",
       "      <th>1488</th>\n",
       "      <td>These close without your voice without your sc...</td>\n",
       "      <td>sadness</td>\n",
       "    </tr>\n",
       "    <tr>\n",
       "      <th>1489</th>\n",
       "      <td>People can not do but nothing my God enlighten...</td>\n",
       "      <td>sadness</td>\n",
       "    </tr>\n",
       "    <tr>\n",
       "      <th>1490</th>\n",
       "      <td>Person please anyone who finds this puppy warn...</td>\n",
       "      <td>sadness</td>\n",
       "    </tr>\n",
       "  </tbody>\n",
       "</table>\n",
       "<p>1491 rows × 2 columns</p>\n",
       "</div>"
      ],
      "text/plain": [
       "                                                   text  emotion\n",
       "0     Person now the bug will get to speak is easy I...    anger\n",
       "1     Person that pity passed 000 posts by my face y...    anger\n",
       "2     Phod good morning rs for those who vote or vot...    anger\n",
       "3     Person This is the state of the street Doctor ...    anger\n",
       "4     Ufa ufa person that night horrible without lig...    anger\n",
       "...                                                 ...      ...\n",
       "1486  Mc Daleste S0 Filhão Life taught me to say goo...  sadness\n",
       "1487  My life, I love you, I love you, I love you, I...  sadness\n",
       "1488  These close without your voice without your sc...  sadness\n",
       "1489  People can not do but nothing my God enlighten...  sadness\n",
       "1490  Person please anyone who finds this puppy warn...  sadness\n",
       "\n",
       "[1491 rows x 2 columns]"
      ]
     },
     "execution_count": 23,
     "metadata": {},
     "output_type": "execute_result"
    }
   ],
   "source": [
    "translated_df"
   ]
  },
  {
   "cell_type": "code",
   "execution_count": 24,
   "id": "538b74da",
   "metadata": {},
   "outputs": [],
   "source": [
    "translated_df.to_csv('../datasets/universal_joy_equal/equal_en_from_zh.csv')"
   ]
  },
  {
   "cell_type": "code",
   "execution_count": null,
   "id": "b9f93c30",
   "metadata": {},
   "outputs": [],
   "source": []
  }
 ],
 "metadata": {
  "kernelspec": {
   "display_name": "Python 3",
   "language": "python",
   "name": "python3"
  },
  "language_info": {
   "codemirror_mode": {
    "name": "ipython",
    "version": 3
   },
   "file_extension": ".py",
   "mimetype": "text/x-python",
   "name": "python",
   "nbconvert_exporter": "python",
   "pygments_lexer": "ipython3",
   "version": "3.9.10"
  }
 },
 "nbformat": 4,
 "nbformat_minor": 5
}
